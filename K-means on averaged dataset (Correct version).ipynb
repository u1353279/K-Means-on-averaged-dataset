{
 "cells": [
  {
   "cell_type": "markdown",
   "metadata": {},
   "source": [
    "# Creating a K-means clusterig model to find the fault classes in a PV installation"
   ]
  },
  {
   "cell_type": "markdown",
   "metadata": {},
   "source": [
    "Importing Modules"
   ]
  },
  {
   "cell_type": "code",
   "execution_count": 7,
   "metadata": {},
   "outputs": [],
   "source": [
    "from sklearn.cluster import KMeans\n",
    "from sklearn.preprocessing import MinMaxScaler\n",
    "from matplotlib import pyplot as plt\n",
    "%matplotlib inline\n",
    "import pandas as pd"
   ]
  },
  {
   "cell_type": "code",
   "execution_count": 10,
   "metadata": {},
   "outputs": [],
   "source": [
    "df=pd.read_excel('avg1.xlsx')"
   ]
  },
  {
   "cell_type": "markdown",
   "metadata": {},
   "source": [
    "for loop to take only the average of the avlues between the  zero values(nigths) and append to a list"
   ]
  },
  {
   "cell_type": "code",
   "execution_count": 14,
   "metadata": {},
   "outputs": [
    {
     "name": "stdout",
     "output_type": "stream",
     "text": [
      "[123.10163512678831, 0.4503529252941176, 0.0225, 0.6792784500000001, 0.23539985999999963, 0.30621957499999997, 0.133667, 0.6262518333333331, 0.21037271999999999, 0.08400013333333334, 0.107833, 0.07141665, 0.08810351499999951, 0.13331054999999994, 172.79299511249997, 0.07899999999999996, 0.09150015, 0.40908349999999977, 0.05158335, 0.07429495, 0.51385584, 0.0333333, 0.0103333, 0.08699984999999945, 156.5774977480719, 0.3141511111111111, 0.164167, 0.0928333, 108.57877464961618, 0.11474999999999999, 0.184887, 0.488583, 0.0181667, 0.1844614999999995, 0.08816649999999951, 152.09884130548312, 0.0693333, 0.0201667, 256.1613370080562, 0.152667, 1.0282494, 0.30505556666666667, 0.06444443333333333, 0.00383333, 0.00266667, 142.2899403453264, 0.48761971428571427, 0.203729, 0.0223333, 278.2466619553219, 0.08183335, 0.00833333, 0.0443333, 0.14620816749999976, 0.05074999999999995, 221.44722002480327, 0.08075, 0.00583333, 197.54469963399478, 182.50715306544487, 149.92731524242419, 0.021294549999999975, 147.5495725291721, 0.25733325, 0.025750000000000002, 147.34560627931467, 0.5984965833333332, 0.14644443333333332, 0.1361669, 218.66528380764154, 0.180833, 0.3854073333333332, 0.8099025782608685, 0.106627, 210.11727754099883, 0.1726667666666667, 0.12958315, 0.4092221, 0.0245, 0.0473333, 0.0158333, 192.0467453510363, 0.100833, 0.10025015000000001, 0.3122050176923076, 231.59196909380614, 0.0103333, 3.154249496551722, 0.7399167124999999, 0.037, 0.08516649999999995, 0.273722875, 0.0186667, 0.0567213, 0.08855056666666668, 0.35875, 0.40225004999999986, 0.0345, 0.25745825, 0.3192188099999999, 0.36971432857142855, 0.4918000000000001, 0.40705533333333305, 0.35752783333333316, 0.0590833, 0.48126074761904775, 0.0243333, 0.18553331999999997, 0.1838985, 0.44613685, 0.008, 0.13870006, 0.24442866666666652, 0.198, 0.25183326, 0.5982468647058817, 0.16861071600000002, 0.3764597777777777, 0.16153636249999997, 0.06541664999999999, 0.34076624999999994, 0.0503333, 0.21300025, 0.0113333, 0.095, 0.44103339999999996, 0.16253346, 0.5615244285714284, 0.291167, 0.3528589999999999, 0.0393333, 0.18533299999999903, 0.42942852857142855, 0.241389, 0.0811664999999995, 0.39478277409090906, 252.21141563892428, 0.07061111666666664, 0.117833, 167.45775498655354, 0.44266659999999997, 0.19077777777777766, 0.11188062857142843, 0.23941678333333316, 0.40205287499999987, 197.31958845384588, 0.7286981709677408, 0.036, 0.6668542499999998, 0.066, 136.52455114046708, 0.14630951857142854, 0.0175, 0.7355435384615376, 0.0385, 0.1845414167499995, 266.3557782099356, 0.07433334999999999, 0.001, 290.50060521019066, 0.0253333, 0.0725, 273.5162294934093, 292.97694864259955, 0.0833333, 0.1702777666666667, 0.225167, 0.1140999999999998, 0.9536692874999997, 337.98366071614583, 1.3590318181818182, 0.176, 207.58734959538467, 0.17058325, 0.15688899999999964, 1.188714604545454, 194.5736774280101, 223.55485957452214, 0.11996044999999997, 0.120333, 199.52076946957084, 0.09853417499999997, 176.93876118259195, 0.3015003333333333, 181.44210887714647, 0.09333335, 226.6514568058597, 0.2058335, 0.17425000000000002, 0.137832999999999, 0.18287879090909076, 0.2655556666666667, 241.40542298089153, 0.35216659999999955, 0.50112525, 205.37253879797942, 0.23683299999999952, 0.120167, 0.34092429999999996, 0.03925, 0.12633350000000002, 0.0548333, 0.047, 0.1190665199999998, 0.0173333, 0.47766675000000003, 0.0926666999999999, 0.0347500165, 0.0711666999999999, 0.00883333, 0.2591113333333333, 0.06316685, 0.0236667, 0.021388890000000004, 213.37780897038098, 0.308611, 0.0431666999999999, 0.2738609499999998, 0.0790835, 0.151333, 139.58507181805334, 0.0378333, 0.18289387272727273, 0.5641997999999997, 0.0123333, 162.0483917714881, 0.002833335, 0.0233333, 0.15155566666666667, 0.058833300000000005, 0.0158333, 266.0818573323935, 0.2289999999999998, 0.12866667124999998, 0.0806667, 0.0481966999999999, 0.055, 0.030004783249999976, 0.000666667, 0.216083, 0.155582999999999, 0.0771666999999999, 213.53473665423914, 0.00933333, 0.14050015000000002, 0.12801693333333333, 0.3318999999999998, 0.0478815333333333, 0.0411864, 0.1223335, 134.3281008506981, 0.0075, 0.0036666700000000003, 138.8015696276444, 0.143833, 0.33736665999999993, 0.154167, 0.11864009999999998, 125.23328084460415, 0.35018315000000005, 0.39554707692307695, 0.0231667, 0.19224985, 0.00383333, 0.01, 0.06994433333333333, 0.0255, 0.0248333, 0.316389, 0.00166667, 0.0778333, 192.8388860618572, 0.20448957499999998, 0.0904165, 0.0546666999999999, 0.039583349999999955, 0.14716666666666647, 0.0283332999999999, 175.55573242938647, 0.04249999999999995, 0.0303332999999999, 0.103833, 0.10650011000000002, 0.1010343, 212.30713003829743, 0.04208334999999995, 0.15158342499999997, 0.0701667, 0.0881666999999999, 170.97727675056478, 0.05058335, 162.98491769535224, 0.04983334999999995, 0.0315, 0.106538, 173.95797176826517, 0.061250165, 0.0236667, 0.1945, 0.092166835, 0.0488333, 0.0225, 0.0231667, 0.0803333, 233.46282396463926, 0.11159835, 0.0323332999999999, 0.00366667, 0.000166667, 0.1463335, 0.0256667, 0.0865, 0.0231667, 0.0366666999999999, 0.006, 0.09833335, 0.02199154999999995, 0.0128333, 162.8318489728692, 0.109333, 0.10983355, 0.039749985, 0.1737221, 0.102667, 0.0973333, 0.156333, 0.09849992499999997, 0.0495, 0.08472233333333333, 0.10272213333333334, 0.020339, 0.017693785, 0.2576666999999999, 0.05328326666666666, 204.6212046902655, 0.43166685714285713, 0.11224999999999999, 0.0168333, 0.076916665, 0.15591665, 0.0447499999999999, 0.0553333, 0.2676246666666667, 0.0065, 0.231999825, 0.0243333, 0.0363333, 0.25794466666666666, 0.077625, 0.158, 0.191, 0.12775, 126.44829591994173, 0.0413333, 0.028222233333333333, 0.06833315, 0.1976665999999998, 0.06530005999999997, 0.046, 0.06495843249999997, 0.0265, 224.8649659961759, 0.0768333, 0.10191682499999999, 160.74542438425627, 0.0201667, 0.0823729, 0.27577766666666664, 0.08061123333333332, 130.26933675109794, 0.336949, 0.26952777833333336, 0.030182, 0.0768335, 0.065, 0.171889, 0.0701667, 0.09750015000000001, 0.07199999999999995, 0.10349984999999999, 0.4196000000000001, 0.1705, 144.95762079086862, 0.0331148, 0.042, 0.07430005999999997, 232.6124470545194, 0.04358329999999995, 0.1195835, 0.0213333, 0.15672199999999967, 0.0648333, 243.23856015099716, 0.198944433333333, 0.0706666999999999, 0.14294433333333267, 0.0381667, 0.13862831111111112, 0.06899999999999996, 225.11643654113368, 0.27902367142857143, 0.22322921249999997, 0.0628333, 0.4397120545454545, 0.13679986, 0.05016665, 0.11371427142857142, 0.0918333, 0.0926290249999997, 0.04725, 0.0984165, 0.09563347999999999, 0.0168333, 0.137288, 0.00233333, 213.44757088952048, 0.147916665, 0.0035, 0.035, 0.108, 0.140167, 191.0294140785713, 0.0206667, 0.3603749999999997, 216.71401766950353, 0.12716650000000002, 0.0605, 228.34593858350092, 0.056833333333333326, 0.06725, 104.48781774146687, 0.06700015, 0.02841668499999995, 0.22913635454545453, 207.45491276040133, 0.06377777666666666, 205.53246321022706, 0.0860656, 0.0221667, 0.06564807444444432, 0.036666649999999947, 0.086, 0.26680000000000004, 0.060999992499999975, 0.07138886666666668, 103.01010071203429, 0.06525, 0.4171666599999996, 0.0409999999999999, 233.5748689623731, 0.107667, 0.4523501, 0.0271667]\n"
     ]
    }
   ],
   "source": [
    "counter=0\n",
    "total=0\n",
    "g_avg=[]\n",
    "output=[]\n",
    "for x in df['G']:\n",
    "    if x !=0:\n",
    "        counter+=1\n",
    "        total+=x\n",
    "    if(counter>0 and x==0):\n",
    "        z=total/counter\n",
    "        g_avg.append(z)\n",
    "        counter=0\n",
    "        \n",
    "        total=0\n",
    "print(g_avg)\n",
    "#print(output)"
   ]
  },
  {
   "cell_type": "code",
   "execution_count": 15,
   "metadata": {},
   "outputs": [
    {
     "name": "stdout",
     "output_type": "stream",
     "text": [
      "[270.9331215588163, 1.0054234411764702, 0.0518689, 1.5005528000000001, 0.51337092, 0.6731372499999999, 0.303925, 1.3571121666666668, 0.4751230999999999, 0.18149366666666666, 0.248421, 0.15088055, 0.1907279, 0.279026, 379.8945344595355, 0.1784385, 0.198566, 0.871084, 0.11552319999999999, 0.165824475, 1.1178472, 0.0707185, 0.0225682, 0.186691, 343.7198161721082, 0.6960438222222223, 0.376147, 0.210012, 238.9717196240407, 0.2627515, 0.40978800000000004, 1.101056, 0.0395954, 0.39985350000000003, 0.19916755, 334.2569320796351, 0.15408, 0.0447707, 563.6435114667521, 0.328979, 2.2538938000000006, 0.6732755333333333, 0.13827743333333334, 0.00874993, 0.00570703, 313.61707973674766, 1.0860677142857142, 0.470402, 0.0482091, 551.113736576872, 0.1580195, 0.0162458, 0.0864251, 0.28985727, 0.1045999, 438.95296753412117, 0.1535936, 0.0113856, 390.7921295132277, 362.3446104175395, 296.7311761459816, 0.041319175, 292.1297328522996, 0.51500825, 0.052128549999999996, 291.40992074044755, 1.1906144166666666, 0.29614999999999997, 0.2739972333333333, 385.3906091567852, 0.3308, 0.6681628222222221, 1.4229373652173916, 0.18764, 369.8610205889619, 0.29324633333333333, 0.23224499999999998, 0.7263960000000002, 0.0430285, 0.0841989, 0.0273206, 337.63949811139884, 0.181322, 0.1762725, 0.5483228153846154, 408.17514400645115, 0.0179279, 5.543262793103448, 1.306327125, 0.0639308, 0.15358105, 0.4771511125, 0.0326409, 0.0978329, 0.15474480000000002, 0.62252, 0.7036538500000001, 0.0586429, 0.445342, 0.5741744457142858, 0.6571942857142857, 0.8707803999999999, 0.7338766666666667, 0.6310285000000001, 0.1062891, 0.846623, 0.0414234, 0.33927863999999996, 0.3273425, 0.7816472187500002, 0.0147336, 0.24094020000000005, 0.43043234999999996, 0.359382, 0.45200552000000005, 1.0606091764705883, 0.29548352, 0.6691609999999999, 0.28801877499999995, 0.11170909999999999, 0.5878981666666666, 0.0855014, 0.37612175000000003, 0.0204347, 0.16332750000000001, 0.7638984, 0.28094964, 0.9947340000000001, 0.517383, 0.6164107692307693, 0.0673277, 0.316629, 0.764163, 0.4311955, 0.14874715, 0.696977281818182, 444.7446763684929, 0.12443191666666666, 0.197969, 294.627244737598, 0.7779336666666666, 0.3357974777777778, 0.200122, 0.4205686166666667, 0.7179409999999999, 346.80639274487174, 1.2880315225806451, 0.055068, 0.998082875, 0.10131165, 210.36552087911792, 0.227969, 0.0256108, 1.1373021538461539, 0.0619053, 0.290631175, 410.1320704516124, 0.1182349, 0.00157423, 447.01396223948996, 0.0390001, 0.114016, 422.0892821939167, 451.3909973167311, 0.130876, 0.26946566666666666, 0.3521695, 0.1800186, 1.4744350000000002, 520.6436864238286, 2.1114413272727273, 0.2807, 320.50328588307656, 0.26252955, 0.23861999999999997, 1.8480922727272733, 257.10165896286446, 295.3401091439487, 0.156162575, 0.159902, 263.0376281704543, 0.12809182500000002, 233.6335706280813, 0.40791099999999997, 239.11434720707044, 0.12266550000000001, 298.883074627006, 0.2658275, 0.232185, 0.18354, 0.23688670909090914, 0.34787799999999997, 318.4780268980893, 0.45439860000000004, 0.6602652499999999, 226.29088383607512, 0.26144999999999996, 0.138433, 0.3761661818181819, 0.04400365, 0.1350658, 0.0589718, 0.05226665, 0.1318516, 0.0200041, 0.5224547500000001, 0.0971975, 0.0365119015, 0.080753, 0.00970865, 0.29131233333333334, 0.0678266, 0.0259542, 0.02432751, 234.8116207655856, 0.3402446666666667, 0.0451693, 0.3001637833333333, 0.0865162, 0.172472, 153.26277536530313, 0.0412512, 0.20149218181818182, 0.6182831999999999, 0.0140876, 178.26248588831697, 0.0030573099999999997, 0.0249861, 0.17176133333333335, 0.06597225, 0.0168865, 292.6466140752269, 0.2546872, 0.14271654000000003, 0.0870348, 0.0508439, 0.05999065, 0.032584770250000006, 0.000736076, 0.2391305, 0.175392, 0.0888254, 234.81043016071823, 0.0100168, 0.15342315, 0.14216786666666667, 0.36655492, 0.0525456, 0.0432804, 0.1327518, 147.67084659720678, 0.00836231, 0.00403562, 122.1136154519041, 0.131694, 0.29657760000000005, 0.131651, 0.1009213, 110.21009326330925, 0.30398935, 0.3504539692307692, 0.0201046, 0.17557325000000001, 0.00350234, 0.00921249, 0.058970699999999994, 0.0217712, 0.0226794, 0.284489, 0.00145383, 0.0691771, 169.76004746599992, 0.183186675, 0.0805537, 0.0478108, 0.03369218, 0.12970328333333334, 0.0255205, 154.65233881027083, 0.03732215, 0.027879, 0.089893, 0.09358249333333335, 0.08700775, 187.08946713758863, 0.0368049, 0.137005375, 0.0613079, 0.0738333, 150.64147373319207, 0.0431828, 143.48651330563385, 0.043134450000000005, 0.0265234, 0.0943124, 114.82259053977437, 0.03973702, 0.0159828, 0.12549775, 0.063625465, 0.0310296, 0.0142006, 0.0148294, 0.0531502, 154.1342182028288, 0.0723704, 0.0220212, 0.00232104, 0.00011364, 0.0951688, 0.0161194, 0.059678, 0.0155622, 0.023627, 0.0038319, 0.0671243, 0.014578135, 0.00850922, 107.50067947897728, 0.0708419, 0.07150465, 0.026410655, 0.11167070000000001, 0.0711073, 0.0647059, 0.100237, 0.06525767875, 0.0323239, 0.056990700000000005, 0.067177, 0.0137482, 0.011300584999999998, 0.17136862222222224, 0.03580353333333333, 135.0165053519175, 0.2875945714285714, 0.07655300000000001, 0.0116185, 0.048524725000000005, 0.1056846, 0.03020465, 0.0349942, 0.17893099999999998, 0.00412623, 0.15120714999999998, 0.01573, 0.0237723, 0.17759313333333335, 0.050652125, 0.10156, 0.131247, 0.08176655, 83.414793028821, 0.0285876, 0.018624623333333333, 0.043477, 0.12923266, 0.0422763444, 0.0314245, 0.0429091375, 0.0166656, 148.4083653297449, 0.0486536, 0.069184825, 106.11500220655972, 0.0136795, 0.0546505, 0.1217851, 0.0345952, 57.29086412166905, 0.154424, 0.12051621166666666, 0.013473994999999999, 0.0325996, 0.028307115, 0.07503673333333333, 0.0322293, 0.0427013, 0.030801799999999997, 0.046881, 0.1898414, 0.0715091, 63.711323140647984, 0.0150292, 0.0182924, 0.03241618, 102.29397604175037, 0.0199433, 0.05366, 0.00910585, 0.0663865, 0.0285393, 107.233061215, 0.08513113333333333, 0.0324828, 0.06169126666666667, 0.0167021, 0.060337466666666666, 0.03095879333333333, 99.11509199462208, 0.1209578657142857, 0.097797025, 0.0267449, 0.19078863636363638, 0.06144526, 0.02186915, 0.05076189999999999, 0.0389013, 0.040814925, 0.019806499999999998, 0.04429355, 0.042023939999999996, 0.00715906, 0.0574435, 0.00101834, 94.03609595975809, 0.06717480999999999, 0.00161005, 0.0149089, 0.048237525, 0.0624118, 84.03193749628575, 0.00868163, 0.15842445, 47.66120546283683, 0.027834750000000002, 0.0127552, 50.321117650028704, 0.012558206666666669, 0.0145513, 23.015506916925272, 0.01430753, 0.006027575, 0.050745146363636355, 45.611263376275524, 0.014328963333333335, 45.19195084090911, 0.0193278, 0.00481907, 0.014223603333333331, 0.008376725, 0.0181912, 0.058857166000000016, 0.013107332499999999, 0.016071833333333334, 22.702805190114603, 0.014263475, 0.09152284, 0.00877069, 51.45769809481912, 0.0227281, 0.09868812000000002, 0.00621836]\n"
     ]
    }
   ],
   "source": [
    "counter=0\n",
    "total=0\n",
    "p_avg=[]\n",
    "output=[]\n",
    "for x in df['P']:\n",
    "    if x !=0:\n",
    "        counter+=1\n",
    "        total+=x\n",
    "    if(counter>0 and x==0):\n",
    "        z=total/counter\n",
    "        p_avg.append(z)\n",
    "        counter=0\n",
    "        \n",
    "        total=0\n",
    "print(p_avg)\n",
    "#print(output)"
   ]
  },
  {
   "cell_type": "markdown",
   "metadata": {},
   "source": [
    "View correlation between the irradiance and power"
   ]
  },
  {
   "cell_type": "code",
   "execution_count": 21,
   "metadata": {},
   "outputs": [
    {
     "data": {
      "text/plain": [
       "Text(0, 0.5, 'power')"
      ]
     },
     "execution_count": 21,
     "metadata": {},
     "output_type": "execute_result"
    },
    {
     "data": {
      "image/png": "[encoded data removed]",
      "text/plain": [
       "<Figure size 432x288 with 1 Axes>"
      ]
     },
     "metadata": {
      "needs_background": "light"
     },
     "output_type": "display_data"
    }
   ],
   "source": [
    "plt.scatter(g_avg,p_avg)\n",
    "plt.xlabel('irradiance')\n",
    "plt.ylabel('power')"
   ]
  },
  {
   "cell_type": "markdown",
   "metadata": {},
   "source": [
    "to add the new columns to the dataframe, we need to convert the lists to a pandas series so that the empty rows will be \n",
    "filled as 'NAN'"
   ]
  },
  {
   "cell_type": "code",
   "execution_count": 31,
   "metadata": {},
   "outputs": [],
   "source": [
    "df['g_avg'] = pd.Series(g_avg)\n",
    "df['p_avg'] = pd.Series(p_avg)"
   ]
  },
  {
   "cell_type": "markdown",
   "metadata": {},
   "source": [
    "Drop the original G and P"
   ]
  },
  {
   "cell_type": "code",
   "execution_count": 53,
   "metadata": {},
   "outputs": [],
   "source": [
    "df_new=df.drop(columns=['G','P'])"
   ]
  },
  {
   "cell_type": "code",
   "execution_count": 54,
   "metadata": {},
   "outputs": [
    {
     "data": {
      "text/html": [
       "<div>\n",
       "<style scoped>\n",
       "    .dataframe tbody tr th:only-of-type {\n",
       "        vertical-align: middle;\n",
       "    }\n",
       "\n",
       "    .dataframe tbody tr th {\n",
       "        vertical-align: top;\n",
       "    }\n",
       "\n",
       "    .dataframe thead th {\n",
       "        text-align: right;\n",
       "    }\n",
       "</style>\n",
       "<table border=\"1\" class=\"dataframe\">\n",
       "  <thead>\n",
       "    <tr style=\"text-align: right;\">\n",
       "      <th></th>\n",
       "      <th>g_avg</th>\n",
       "      <th>p_avg</th>\n",
       "      <th>cluster</th>\n",
       "    </tr>\n",
       "  </thead>\n",
       "  <tbody>\n",
       "    <tr>\n",
       "      <td>0</td>\n",
       "      <td>0.364223</td>\n",
       "      <td>0.216336</td>\n",
       "      <td>0</td>\n",
       "    </tr>\n",
       "    <tr>\n",
       "      <td>1</td>\n",
       "      <td>0.001332</td>\n",
       "      <td>0.000803</td>\n",
       "      <td>0</td>\n",
       "    </tr>\n",
       "    <tr>\n",
       "      <td>2</td>\n",
       "      <td>0.000066</td>\n",
       "      <td>0.000041</td>\n",
       "      <td>0</td>\n",
       "    </tr>\n",
       "    <tr>\n",
       "      <td>3</td>\n",
       "      <td>0.002009</td>\n",
       "      <td>0.001198</td>\n",
       "      <td>0</td>\n",
       "    </tr>\n",
       "    <tr>\n",
       "      <td>4</td>\n",
       "      <td>0.000696</td>\n",
       "      <td>0.000410</td>\n",
       "      <td>0</td>\n",
       "    </tr>\n",
       "    <tr>\n",
       "      <td>...</td>\n",
       "      <td>...</td>\n",
       "      <td>...</td>\n",
       "      <td>...</td>\n",
       "    </tr>\n",
       "    <tr>\n",
       "      <td>97195</td>\n",
       "      <td>NaN</td>\n",
       "      <td>NaN</td>\n",
       "      <td>0</td>\n",
       "    </tr>\n",
       "    <tr>\n",
       "      <td>97196</td>\n",
       "      <td>NaN</td>\n",
       "      <td>NaN</td>\n",
       "      <td>0</td>\n",
       "    </tr>\n",
       "    <tr>\n",
       "      <td>97197</td>\n",
       "      <td>NaN</td>\n",
       "      <td>NaN</td>\n",
       "      <td>0</td>\n",
       "    </tr>\n",
       "    <tr>\n",
       "      <td>97198</td>\n",
       "      <td>NaN</td>\n",
       "      <td>NaN</td>\n",
       "      <td>0</td>\n",
       "    </tr>\n",
       "    <tr>\n",
       "      <td>97199</td>\n",
       "      <td>NaN</td>\n",
       "      <td>NaN</td>\n",
       "      <td>0</td>\n",
       "    </tr>\n",
       "  </tbody>\n",
       "</table>\n",
       "<p>97200 rows × 3 columns</p>\n",
       "</div>"
      ],
      "text/plain": [
       "          g_avg     p_avg  cluster\n",
       "0      0.364223  0.216336        0\n",
       "1      0.001332  0.000803        0\n",
       "2      0.000066  0.000041        0\n",
       "3      0.002009  0.001198        0\n",
       "4      0.000696  0.000410        0\n",
       "...         ...       ...      ...\n",
       "97195       NaN       NaN        0\n",
       "97196       NaN       NaN        0\n",
       "97197       NaN       NaN        0\n",
       "97198       NaN       NaN        0\n",
       "97199       NaN       NaN        0\n",
       "\n",
       "[97200 rows x 3 columns]"
      ]
     },
     "execution_count": 54,
     "metadata": {},
     "output_type": "execute_result"
    }
   ],
   "source": [
    "df_new"
   ]
  },
  {
   "cell_type": "markdown",
   "metadata": {},
   "source": [
    "Deleteing teh Nan rows"
   ]
  },
  {
   "cell_type": "code",
   "execution_count": 55,
   "metadata": {},
   "outputs": [
    {
     "data": {
      "text/html": [
       "<div>\n",
       "<style scoped>\n",
       "    .dataframe tbody tr th:only-of-type {\n",
       "        vertical-align: middle;\n",
       "    }\n",
       "\n",
       "    .dataframe tbody tr th {\n",
       "        vertical-align: top;\n",
       "    }\n",
       "\n",
       "    .dataframe thead th {\n",
       "        text-align: right;\n",
       "    }\n",
       "</style>\n",
       "<table border=\"1\" class=\"dataframe\">\n",
       "  <thead>\n",
       "    <tr style=\"text-align: right;\">\n",
       "      <th></th>\n",
       "      <th>g_avg</th>\n",
       "      <th>p_avg</th>\n",
       "      <th>cluster</th>\n",
       "    </tr>\n",
       "  </thead>\n",
       "  <tbody>\n",
       "    <tr>\n",
       "      <td>0</td>\n",
       "      <td>0.364223</td>\n",
       "      <td>0.216336</td>\n",
       "      <td>0</td>\n",
       "    </tr>\n",
       "    <tr>\n",
       "      <td>1</td>\n",
       "      <td>0.001332</td>\n",
       "      <td>0.000803</td>\n",
       "      <td>0</td>\n",
       "    </tr>\n",
       "    <tr>\n",
       "      <td>2</td>\n",
       "      <td>0.000066</td>\n",
       "      <td>0.000041</td>\n",
       "      <td>0</td>\n",
       "    </tr>\n",
       "    <tr>\n",
       "      <td>3</td>\n",
       "      <td>0.002009</td>\n",
       "      <td>0.001198</td>\n",
       "      <td>0</td>\n",
       "    </tr>\n",
       "    <tr>\n",
       "      <td>4</td>\n",
       "      <td>0.000696</td>\n",
       "      <td>0.000410</td>\n",
       "      <td>0</td>\n",
       "    </tr>\n",
       "    <tr>\n",
       "      <td>...</td>\n",
       "      <td>...</td>\n",
       "      <td>...</td>\n",
       "      <td>...</td>\n",
       "    </tr>\n",
       "    <tr>\n",
       "      <td>448</td>\n",
       "      <td>0.000121</td>\n",
       "      <td>0.000007</td>\n",
       "      <td>2</td>\n",
       "    </tr>\n",
       "    <tr>\n",
       "      <td>449</td>\n",
       "      <td>0.691083</td>\n",
       "      <td>0.041088</td>\n",
       "      <td>2</td>\n",
       "    </tr>\n",
       "    <tr>\n",
       "      <td>450</td>\n",
       "      <td>0.000318</td>\n",
       "      <td>0.000018</td>\n",
       "      <td>2</td>\n",
       "    </tr>\n",
       "    <tr>\n",
       "      <td>451</td>\n",
       "      <td>0.001338</td>\n",
       "      <td>0.000079</td>\n",
       "      <td>2</td>\n",
       "    </tr>\n",
       "    <tr>\n",
       "      <td>452</td>\n",
       "      <td>0.000080</td>\n",
       "      <td>0.000005</td>\n",
       "      <td>2</td>\n",
       "    </tr>\n",
       "  </tbody>\n",
       "</table>\n",
       "<p>453 rows × 3 columns</p>\n",
       "</div>"
      ],
      "text/plain": [
       "        g_avg     p_avg  cluster\n",
       "0    0.364223  0.216336        0\n",
       "1    0.001332  0.000803        0\n",
       "2    0.000066  0.000041        0\n",
       "3    0.002009  0.001198        0\n",
       "4    0.000696  0.000410        0\n",
       "..        ...       ...      ...\n",
       "448  0.000121  0.000007        2\n",
       "449  0.691083  0.041088        2\n",
       "450  0.000318  0.000018        2\n",
       "451  0.001338  0.000079        2\n",
       "452  0.000080  0.000005        2\n",
       "\n",
       "[453 rows x 3 columns]"
      ]
     },
     "execution_count": 55,
     "metadata": {},
     "output_type": "execute_result"
    }
   ],
   "source": [
    "df_new.dropna()"
   ]
  },
  {
   "cell_type": "code",
   "execution_count": 48,
   "metadata": {},
   "outputs": [],
   "source": [
    "df_new = df_new.reset_index()"
   ]
  },
  {
   "cell_type": "code",
   "execution_count": 61,
   "metadata": {},
   "outputs": [
    {
     "data": {
      "text/html": [
       "<div>\n",
       "<style scoped>\n",
       "    .dataframe tbody tr th:only-of-type {\n",
       "        vertical-align: middle;\n",
       "    }\n",
       "\n",
       "    .dataframe tbody tr th {\n",
       "        vertical-align: top;\n",
       "    }\n",
       "\n",
       "    .dataframe thead th {\n",
       "        text-align: right;\n",
       "    }\n",
       "</style>\n",
       "<table border=\"1\" class=\"dataframe\">\n",
       "  <thead>\n",
       "    <tr style=\"text-align: right;\">\n",
       "      <th></th>\n",
       "      <th>g_avg</th>\n",
       "      <th>p_avg</th>\n",
       "      <th>cluster</th>\n",
       "    </tr>\n",
       "  </thead>\n",
       "  <tbody>\n",
       "    <tr>\n",
       "      <td>0</td>\n",
       "      <td>0.364223</td>\n",
       "      <td>0.216336</td>\n",
       "      <td>0</td>\n",
       "    </tr>\n",
       "    <tr>\n",
       "      <td>1</td>\n",
       "      <td>0.001332</td>\n",
       "      <td>0.000803</td>\n",
       "      <td>0</td>\n",
       "    </tr>\n",
       "    <tr>\n",
       "      <td>2</td>\n",
       "      <td>0.000066</td>\n",
       "      <td>0.000041</td>\n",
       "      <td>0</td>\n",
       "    </tr>\n",
       "    <tr>\n",
       "      <td>3</td>\n",
       "      <td>0.002009</td>\n",
       "      <td>0.001198</td>\n",
       "      <td>0</td>\n",
       "    </tr>\n",
       "    <tr>\n",
       "      <td>4</td>\n",
       "      <td>0.000696</td>\n",
       "      <td>0.000410</td>\n",
       "      <td>0</td>\n",
       "    </tr>\n",
       "    <tr>\n",
       "      <td>...</td>\n",
       "      <td>...</td>\n",
       "      <td>...</td>\n",
       "      <td>...</td>\n",
       "    </tr>\n",
       "    <tr>\n",
       "      <td>448</td>\n",
       "      <td>0.000121</td>\n",
       "      <td>0.000007</td>\n",
       "      <td>2</td>\n",
       "    </tr>\n",
       "    <tr>\n",
       "      <td>449</td>\n",
       "      <td>0.691083</td>\n",
       "      <td>0.041088</td>\n",
       "      <td>2</td>\n",
       "    </tr>\n",
       "    <tr>\n",
       "      <td>450</td>\n",
       "      <td>0.000318</td>\n",
       "      <td>0.000018</td>\n",
       "      <td>2</td>\n",
       "    </tr>\n",
       "    <tr>\n",
       "      <td>451</td>\n",
       "      <td>0.001338</td>\n",
       "      <td>0.000079</td>\n",
       "      <td>2</td>\n",
       "    </tr>\n",
       "    <tr>\n",
       "      <td>452</td>\n",
       "      <td>0.000080</td>\n",
       "      <td>0.000005</td>\n",
       "      <td>2</td>\n",
       "    </tr>\n",
       "  </tbody>\n",
       "</table>\n",
       "<p>453 rows × 3 columns</p>\n",
       "</div>"
      ],
      "text/plain": [
       "        g_avg     p_avg  cluster\n",
       "0    0.364223  0.216336        0\n",
       "1    0.001332  0.000803        0\n",
       "2    0.000066  0.000041        0\n",
       "3    0.002009  0.001198        0\n",
       "4    0.000696  0.000410        0\n",
       "..        ...       ...      ...\n",
       "448  0.000121  0.000007        2\n",
       "449  0.691083  0.041088        2\n",
       "450  0.000318  0.000018        2\n",
       "451  0.001338  0.000079        2\n",
       "452  0.000080  0.000005        2\n",
       "\n",
       "[453 rows x 3 columns]"
      ]
     },
     "execution_count": 61,
     "metadata": {},
     "output_type": "execute_result"
    }
   ],
   "source": [
    "df_new=df_new.dropna()\n",
    "df_new"
   ]
  },
  {
   "cell_type": "markdown",
   "metadata": {},
   "source": [
    "Carrying out the K-means model testing"
   ]
  },
  {
   "cell_type": "code",
   "execution_count": 62,
   "metadata": {},
   "outputs": [
    {
     "data": {
      "text/plain": [
       "KMeans(algorithm='auto', copy_x=True, init='k-means++', max_iter=300,\n",
       "       n_clusters=10, n_init=10, n_jobs=None, precompute_distances='auto',\n",
       "       random_state=None, tol=0.0001, verbose=0)"
      ]
     },
     "execution_count": 62,
     "metadata": {},
     "output_type": "execute_result"
    }
   ],
   "source": [
    "km=KMeans(n_clusters=10)\n",
    "km"
   ]
  },
  {
   "cell_type": "code",
   "execution_count": 63,
   "metadata": {},
   "outputs": [
    {
     "data": {
      "text/plain": [
       "array([6, 2, 2, 2, 2, 2, 2, 2, 2, 2, 2, 2, 2, 2, 6, 2, 2, 2, 2, 2, 2, 2,\n",
       "       2, 2, 6, 2, 2, 2, 6, 2, 2, 2, 2, 2, 2, 6, 2, 2, 6, 2, 2, 2, 2, 2,\n",
       "       2, 6, 2, 2, 2, 6, 2, 2, 2, 2, 2, 6, 2, 2, 6, 6, 6, 2, 6, 2, 2, 6,\n",
       "       2, 2, 2, 6, 2, 2, 2, 2, 6, 2, 2, 2, 2, 2, 2, 6, 2, 2, 2, 6, 2, 2,\n",
       "       2, 2, 2, 2, 2, 2, 2, 2, 2, 2, 2, 2, 2, 2, 2, 2, 2, 2, 2, 2, 2, 2,\n",
       "       2, 2, 2, 2, 2, 2, 2, 2, 2, 2, 2, 2, 2, 2, 2, 2, 2, 2, 2, 2, 2, 2,\n",
       "       2, 2, 2, 2, 6, 2, 2, 6, 2, 2, 2, 2, 2, 6, 2, 2, 2, 2, 6, 2, 2, 2,\n",
       "       2, 2, 6, 2, 2, 6, 2, 2, 6, 6, 2, 2, 2, 2, 2, 6, 2, 2, 8, 1, 1, 1,\n",
       "       8, 8, 1, 1, 8, 1, 8, 1, 8, 1, 8, 1, 1, 3, 3, 3, 7, 3, 3, 7, 3, 3,\n",
       "       3, 3, 3, 3, 3, 3, 3, 3, 3, 3, 3, 3, 3, 3, 3, 3, 7, 3, 3, 5, 5, 5,\n",
       "       0, 5, 5, 5, 5, 0, 5, 5, 5, 5, 5, 0, 5, 5, 5, 5, 5, 5, 5, 5, 4, 4,\n",
       "       9, 4, 4, 4, 4, 4, 4, 4, 9, 4, 4, 9, 4, 4, 4, 4, 9, 4, 4, 4, 4, 4,\n",
       "       4, 4, 4, 4, 4, 4, 4, 9, 4, 4, 4, 4, 5, 5, 0, 5, 5, 5, 5, 5, 0, 5,\n",
       "       5, 5, 5, 0, 5, 0, 5, 5, 5, 0, 5, 5, 5, 5, 5, 5, 5, 5, 0, 5, 5, 5,\n",
       "       5, 5, 5, 5, 5, 5, 5, 5, 5, 5, 0, 5, 5, 5, 5, 5, 5, 5, 5, 5, 5, 5,\n",
       "       5, 5, 5, 5, 0, 5, 5, 5, 5, 5, 5, 5, 5, 5, 5, 5, 5, 5, 5, 5, 5, 5,\n",
       "       0, 5, 5, 5, 5, 5, 5, 5, 5, 0, 5, 5, 0, 5, 5, 5, 5, 0, 5, 5, 5, 5,\n",
       "       5, 5, 5, 5, 5, 5, 5, 5, 0, 5, 5, 5, 0, 5, 5, 5, 5, 5, 0, 5, 5, 5,\n",
       "       5, 5, 5, 0, 5, 5, 5, 5, 5, 5, 5, 5, 5, 5, 5, 5, 5, 5, 5, 0, 5, 5,\n",
       "       5, 5, 5, 0, 5, 5, 0, 5, 5, 0, 5, 5, 0, 5, 5, 5, 0, 5, 0, 5, 5, 5,\n",
       "       5, 5, 5, 5, 5, 0, 5, 5, 5, 0, 5, 5, 5])"
      ]
     },
     "execution_count": 63,
     "metadata": {},
     "output_type": "execute_result"
    }
   ],
   "source": [
    "y_pred=km.fit_predict(df_new)\n",
    "y_pred"
   ]
  },
  {
   "cell_type": "code",
   "execution_count": 67,
   "metadata": {},
   "outputs": [
    {
     "data": {
      "text/html": [
       "<div>\n",
       "<style scoped>\n",
       "    .dataframe tbody tr th:only-of-type {\n",
       "        vertical-align: middle;\n",
       "    }\n",
       "\n",
       "    .dataframe tbody tr th {\n",
       "        vertical-align: top;\n",
       "    }\n",
       "\n",
       "    .dataframe thead th {\n",
       "        text-align: right;\n",
       "    }\n",
       "</style>\n",
       "<table border=\"1\" class=\"dataframe\">\n",
       "  <thead>\n",
       "    <tr style=\"text-align: right;\">\n",
       "      <th></th>\n",
       "      <th>g_avg</th>\n",
       "      <th>p_avg</th>\n",
       "      <th>cluster</th>\n",
       "    </tr>\n",
       "  </thead>\n",
       "  <tbody>\n",
       "    <tr>\n",
       "      <td>0</td>\n",
       "      <td>0.364223</td>\n",
       "      <td>0.216336</td>\n",
       "      <td>6</td>\n",
       "    </tr>\n",
       "    <tr>\n",
       "      <td>1</td>\n",
       "      <td>0.001332</td>\n",
       "      <td>0.000803</td>\n",
       "      <td>2</td>\n",
       "    </tr>\n",
       "    <tr>\n",
       "      <td>2</td>\n",
       "      <td>0.000066</td>\n",
       "      <td>0.000041</td>\n",
       "      <td>2</td>\n",
       "    </tr>\n",
       "    <tr>\n",
       "      <td>3</td>\n",
       "      <td>0.002009</td>\n",
       "      <td>0.001198</td>\n",
       "      <td>2</td>\n",
       "    </tr>\n",
       "    <tr>\n",
       "      <td>4</td>\n",
       "      <td>0.000696</td>\n",
       "      <td>0.000410</td>\n",
       "      <td>2</td>\n",
       "    </tr>\n",
       "  </tbody>\n",
       "</table>\n",
       "</div>"
      ],
      "text/plain": [
       "      g_avg     p_avg  cluster\n",
       "0  0.364223  0.216336        6\n",
       "1  0.001332  0.000803        2\n",
       "2  0.000066  0.000041        2\n",
       "3  0.002009  0.001198        2\n",
       "4  0.000696  0.000410        2"
      ]
     },
     "execution_count": 67,
     "metadata": {},
     "output_type": "execute_result"
    }
   ],
   "source": [
    "df_new['cluster']=y_pred\n",
    "df_new.head()"
   ]
  },
  {
   "cell_type": "code",
   "execution_count": 72,
   "metadata": {},
   "outputs": [
    {
     "data": {
      "text/plain": [
       "Text(0, 0.5, 'P')"
      ]
     },
     "execution_count": 72,
     "metadata": {},
     "output_type": "execute_result"
    },
    {
     "data": {
      "image/png": "[encoded data removed]",
      "text/plain": [
       "<Figure size 432x288 with 1 Axes>"
      ]
     },
     "metadata": {
      "needs_background": "light"
     },
     "output_type": "display_data"
    }
   ],
   "source": [
    "df0=df_new[df_new.cluster==0]\n",
    "df1=df_new[df_new.cluster==1]\n",
    "df2=df_new[df_new.cluster==2]\n",
    "df3=df_new[df_new.cluster==3]\n",
    "df4=df_new[df_new.cluster==4]\n",
    "df5=df_new[df_new.cluster==5]\n",
    "df6=df_new[df_new.cluster==6]\n",
    "df7=df_new[df_new.cluster==7]\n",
    "df8=df_new[df_new.cluster==8]\n",
    "df9=df_new[df_new.cluster==9]\n",
    "\n",
    "plt.scatter(df0.g_avg,df0.p_avg, color='g')\n",
    "plt.scatter(df1.g_avg,df1.p_avg, color='b')\n",
    "plt.scatter(df2.g_avg,df2.p_avg, color='blue')\n",
    "plt.scatter(df3.g_avg,df3.p_avg, color='yellow')\n",
    "plt.scatter(df4.g_avg,df4.p_avg, color='red')\n",
    "plt.scatter(df5.g_avg,df5.p_avg, color='orange')\n",
    "plt.scatter(df6.g_avg,df6.p_avg, color='purple')\n",
    "plt.scatter(df7.g_avg,df7.p_avg, color='grey')\n",
    "plt.scatter(df8.g_avg,df8.p_avg, color='silver')\n",
    "plt.scatter(df9.g_avg,df9.p_avg, color='brown')\n",
    "\n",
    "\n",
    "plt.xlabel('G')\n",
    "plt.ylabel('P')"
   ]
  },
  {
   "cell_type": "markdown",
   "metadata": {},
   "source": [
    "data nomalisation"
   ]
  },
  {
   "cell_type": "code",
   "execution_count": 73,
   "metadata": {},
   "outputs": [
    {
     "data": {
      "text/html": [
       "<div>\n",
       "<style scoped>\n",
       "    .dataframe tbody tr th:only-of-type {\n",
       "        vertical-align: middle;\n",
       "    }\n",
       "\n",
       "    .dataframe tbody tr th {\n",
       "        vertical-align: top;\n",
       "    }\n",
       "\n",
       "    .dataframe thead th {\n",
       "        text-align: right;\n",
       "    }\n",
       "</style>\n",
       "<table border=\"1\" class=\"dataframe\">\n",
       "  <thead>\n",
       "    <tr style=\"text-align: right;\">\n",
       "      <th></th>\n",
       "      <th>g_avg</th>\n",
       "      <th>p_avg</th>\n",
       "      <th>cluster</th>\n",
       "    </tr>\n",
       "  </thead>\n",
       "  <tbody>\n",
       "    <tr>\n",
       "      <td>0</td>\n",
       "      <td>0.364223</td>\n",
       "      <td>0.480682</td>\n",
       "      <td>6</td>\n",
       "    </tr>\n",
       "    <tr>\n",
       "      <td>1</td>\n",
       "      <td>0.001332</td>\n",
       "      <td>0.001784</td>\n",
       "      <td>2</td>\n",
       "    </tr>\n",
       "    <tr>\n",
       "      <td>2</td>\n",
       "      <td>0.000066</td>\n",
       "      <td>0.000092</td>\n",
       "      <td>2</td>\n",
       "    </tr>\n",
       "    <tr>\n",
       "      <td>3</td>\n",
       "      <td>0.002009</td>\n",
       "      <td>0.002662</td>\n",
       "      <td>2</td>\n",
       "    </tr>\n",
       "    <tr>\n",
       "      <td>4</td>\n",
       "      <td>0.000696</td>\n",
       "      <td>0.000911</td>\n",
       "      <td>2</td>\n",
       "    </tr>\n",
       "  </tbody>\n",
       "</table>\n",
       "</div>"
      ],
      "text/plain": [
       "      g_avg     p_avg  cluster\n",
       "0  0.364223  0.480682        6\n",
       "1  0.001332  0.001784        2\n",
       "2  0.000066  0.000092        2\n",
       "3  0.002009  0.002662        2\n",
       "4  0.000696  0.000911        2"
      ]
     },
     "execution_count": 73,
     "metadata": {},
     "output_type": "execute_result"
    }
   ],
   "source": [
    "scaler= MinMaxScaler()\n",
    "scaler.fit(df_new[['g_avg']])\n",
    "df_new[['g_avg']]=scaler.transform(df_new[['g_avg']])\n",
    "scaler.fit(df_new[['p_avg']])\n",
    "df_new[['p_avg']]=scaler.transform(df_new[['p_avg']])\n",
    "df_new.head()"
   ]
  },
  {
   "cell_type": "code",
   "execution_count": 74,
   "metadata": {},
   "outputs": [
    {
     "data": {
      "text/plain": [
       "array([4, 0, 0, 0, 0, 0, 0, 0, 0, 0, 0, 0, 0, 0, 4, 0, 0, 0, 0, 0, 0, 0,\n",
       "       0, 0, 4, 0, 0, 0, 4, 0, 0, 0, 0, 0, 0, 4, 0, 0, 4, 0, 0, 0, 0, 0,\n",
       "       0, 4, 0, 0, 0, 4, 0, 0, 0, 0, 0, 4, 0, 0, 4, 4, 4, 0, 4, 0, 0, 4,\n",
       "       0, 0, 0, 4, 0, 0, 0, 0, 4, 0, 0, 0, 0, 0, 0, 4, 0, 0, 0, 4, 0, 0,\n",
       "       0, 0, 0, 0, 0, 0, 0, 0, 0, 0, 0, 0, 0, 0, 0, 0, 0, 0, 0, 0, 0, 0,\n",
       "       0, 0, 0, 0, 0, 0, 0, 0, 0, 0, 0, 0, 0, 0, 0, 0, 0, 0, 0, 0, 0, 0,\n",
       "       0, 0, 0, 0, 4, 0, 0, 4, 0, 0, 0, 0, 0, 4, 0, 0, 0, 0, 4, 0, 0, 0,\n",
       "       0, 0, 4, 0, 0, 4, 0, 0, 4, 4, 0, 0, 0, 0, 0, 4, 0, 0, 2, 7, 7, 7,\n",
       "       2, 2, 7, 7, 2, 7, 2, 7, 2, 7, 2, 7, 7, 5, 5, 5, 9, 5, 5, 9, 5, 5,\n",
       "       5, 5, 5, 5, 5, 5, 5, 5, 5, 5, 5, 5, 5, 5, 5, 5, 9, 5, 5, 1, 1, 1,\n",
       "       3, 1, 1, 1, 1, 3, 1, 1, 1, 1, 1, 3, 1, 1, 1, 1, 1, 1, 1, 1, 6, 6,\n",
       "       8, 6, 6, 6, 6, 6, 6, 6, 8, 6, 6, 8, 6, 6, 6, 6, 8, 6, 6, 6, 6, 6,\n",
       "       6, 6, 6, 6, 6, 6, 6, 8, 6, 6, 6, 6, 1, 1, 3, 1, 1, 1, 1, 1, 3, 1,\n",
       "       1, 1, 1, 3, 1, 3, 1, 1, 1, 3, 1, 1, 1, 1, 1, 1, 1, 1, 3, 1, 1, 1,\n",
       "       1, 1, 1, 1, 1, 1, 1, 1, 1, 1, 3, 1, 1, 1, 1, 1, 1, 1, 1, 1, 1, 1,\n",
       "       1, 1, 1, 1, 3, 1, 1, 1, 1, 1, 1, 1, 1, 1, 1, 1, 1, 1, 1, 1, 1, 1,\n",
       "       3, 1, 1, 1, 1, 1, 1, 1, 1, 3, 1, 1, 3, 1, 1, 1, 1, 3, 1, 1, 1, 1,\n",
       "       1, 1, 1, 1, 1, 1, 1, 1, 3, 1, 1, 1, 3, 1, 1, 1, 1, 1, 3, 1, 1, 1,\n",
       "       1, 1, 1, 3, 1, 1, 1, 1, 1, 1, 1, 1, 1, 1, 1, 1, 1, 1, 1, 3, 1, 1,\n",
       "       1, 1, 1, 3, 1, 1, 3, 1, 1, 3, 1, 1, 3, 1, 1, 1, 3, 1, 3, 1, 1, 1,\n",
       "       1, 1, 1, 1, 1, 3, 1, 1, 1, 3, 1, 1, 1])"
      ]
     },
     "execution_count": 74,
     "metadata": {},
     "output_type": "execute_result"
    }
   ],
   "source": [
    "y_pred=km.fit_predict(df_new)\n",
    "y_pred"
   ]
  },
  {
   "cell_type": "code",
   "execution_count": 75,
   "metadata": {},
   "outputs": [
    {
     "data": {
      "text/html": [
       "<div>\n",
       "<style scoped>\n",
       "    .dataframe tbody tr th:only-of-type {\n",
       "        vertical-align: middle;\n",
       "    }\n",
       "\n",
       "    .dataframe tbody tr th {\n",
       "        vertical-align: top;\n",
       "    }\n",
       "\n",
       "    .dataframe thead th {\n",
       "        text-align: right;\n",
       "    }\n",
       "</style>\n",
       "<table border=\"1\" class=\"dataframe\">\n",
       "  <thead>\n",
       "    <tr style=\"text-align: right;\">\n",
       "      <th></th>\n",
       "      <th>g_avg</th>\n",
       "      <th>p_avg</th>\n",
       "      <th>cluster</th>\n",
       "    </tr>\n",
       "  </thead>\n",
       "  <tbody>\n",
       "    <tr>\n",
       "      <td>0</td>\n",
       "      <td>0.364223</td>\n",
       "      <td>0.480682</td>\n",
       "      <td>4</td>\n",
       "    </tr>\n",
       "    <tr>\n",
       "      <td>1</td>\n",
       "      <td>0.001332</td>\n",
       "      <td>0.001784</td>\n",
       "      <td>0</td>\n",
       "    </tr>\n",
       "    <tr>\n",
       "      <td>2</td>\n",
       "      <td>0.000066</td>\n",
       "      <td>0.000092</td>\n",
       "      <td>0</td>\n",
       "    </tr>\n",
       "    <tr>\n",
       "      <td>3</td>\n",
       "      <td>0.002009</td>\n",
       "      <td>0.002662</td>\n",
       "      <td>0</td>\n",
       "    </tr>\n",
       "    <tr>\n",
       "      <td>4</td>\n",
       "      <td>0.000696</td>\n",
       "      <td>0.000911</td>\n",
       "      <td>0</td>\n",
       "    </tr>\n",
       "  </tbody>\n",
       "</table>\n",
       "</div>"
      ],
      "text/plain": [
       "      g_avg     p_avg  cluster\n",
       "0  0.364223  0.480682        4\n",
       "1  0.001332  0.001784        0\n",
       "2  0.000066  0.000092        0\n",
       "3  0.002009  0.002662        0\n",
       "4  0.000696  0.000911        0"
      ]
     },
     "execution_count": 75,
     "metadata": {},
     "output_type": "execute_result"
    }
   ],
   "source": [
    "df_new['cluster']=y_pred\n",
    "df_new.head()"
   ]
  },
  {
   "cell_type": "code",
   "execution_count": 76,
   "metadata": {},
   "outputs": [
    {
     "data": {
      "text/plain": [
       "Text(0, 0.5, 'P')"
      ]
     },
     "execution_count": 76,
     "metadata": {},
     "output_type": "execute_result"
    },
    {
     "data": {
      "image/png": "[encoded data removed]",
      "text/plain": [
       "<Figure size 432x288 with 1 Axes>"
      ]
     },
     "metadata": {
      "needs_background": "light"
     },
     "output_type": "display_data"
    }
   ],
   "source": [
    "df0=df_new[df_new.cluster==0]\n",
    "df1=df_new[df_new.cluster==1]\n",
    "df2=df_new[df_new.cluster==2]\n",
    "df3=df_new[df_new.cluster==3]\n",
    "df4=df_new[df_new.cluster==4]\n",
    "df5=df_new[df_new.cluster==5]\n",
    "df6=df_new[df_new.cluster==6]\n",
    "df7=df_new[df_new.cluster==7]\n",
    "df8=df_new[df_new.cluster==8]\n",
    "df9=df_new[df_new.cluster==9]\n",
    "\n",
    "plt.scatter(df0.g_avg,df0.p_avg, color='g')\n",
    "plt.scatter(df1.g_avg,df1.p_avg, color='b')\n",
    "plt.scatter(df2.g_avg,df2.p_avg, color='blue')\n",
    "plt.scatter(df3.g_avg,df3.p_avg, color='yellow')\n",
    "plt.scatter(df4.g_avg,df4.p_avg, color='red')\n",
    "plt.scatter(df5.g_avg,df5.p_avg, color='orange')\n",
    "plt.scatter(df6.g_avg,df6.p_avg, color='purple')\n",
    "plt.scatter(df7.g_avg,df7.p_avg, color='grey')\n",
    "plt.scatter(df8.g_avg,df8.p_avg, color='silver')\n",
    "plt.scatter(df9.g_avg,df9.p_avg, color='brown')\n",
    "\n",
    "\n",
    "plt.xlabel('G')\n",
    "plt.ylabel('P')"
   ]
  },
  {
   "cell_type": "markdown",
   "metadata": {},
   "source": [
    "Implementing a the elbow technique to find the optimal K value"
   ]
  },
  {
   "cell_type": "code",
   "execution_count": 78,
   "metadata": {},
   "outputs": [
    {
     "data": {
      "text/plain": [
       "[35.77712217992365,\n",
       " 5.450835414654838,\n",
       " 2.432779111708551,\n",
       " 1.4297417314790752,\n",
       " 1.0413185283525617,\n",
       " 0.8197549830026225,\n",
       " 0.6427059180721232,\n",
       " 0.5203648231564977,\n",
       " 0.4448363965005445,\n",
       " 0.3723439383585477]"
      ]
     },
     "execution_count": 78,
     "metadata": {},
     "output_type": "execute_result"
    }
   ],
   "source": [
    "k_range=range(1,11)\n",
    "sse=[]\n",
    "for k in k_range:\n",
    "    km=KMeans(n_clusters=k)\n",
    "    km.fit(df_new[['g_avg','p_avg']])\n",
    "    sse.append(km.inertia_)\n",
    "sse"
   ]
  },
  {
   "cell_type": "code",
   "execution_count": 80,
   "metadata": {},
   "outputs": [
    {
     "data": {
      "text/plain": [
       "[<matplotlib.lines.Line2D at 0x1ce8eceae88>]"
      ]
     },
     "execution_count": 80,
     "metadata": {},
     "output_type": "execute_result"
    },
    {
     "data": {
      "image/png": "[encoded data removed]",
      "text/plain": [
       "<Figure size 432x288 with 1 Axes>"
      ]
     },
     "metadata": {
      "needs_background": "light"
     },
     "output_type": "display_data"
    }
   ],
   "source": [
    "plt.plot(k_range,sse)"
   ]
  },
  {
   "cell_type": "code",
   "execution_count": 82,
   "metadata": {},
   "outputs": [],
   "source": [
    "km=KMeans(n_clusters=3)\n",
    "y_pred=km.fit_predict(df_new[['g_avg','p_avg']])"
   ]
  },
  {
   "cell_type": "code",
   "execution_count": 83,
   "metadata": {},
   "outputs": [],
   "source": [
    "df_new['cluster']=y_pred"
   ]
  },
  {
   "cell_type": "code",
   "execution_count": 85,
   "metadata": {},
   "outputs": [
    {
     "data": {
      "text/plain": [
       "Text(0, 0.5, 'P')"
      ]
     },
     "execution_count": 85,
     "metadata": {},
     "output_type": "execute_result"
    },
    {
     "data": {
      "image/png": "[encoded data removed]",
      "text/plain": [
       "<Figure size 432x288 with 1 Axes>"
      ]
     },
     "metadata": {
      "needs_background": "light"
     },
     "output_type": "display_data"
    }
   ],
   "source": [
    "df0=df_new[df_new.cluster==0]\n",
    "df1=df_new[df_new.cluster==1]\n",
    "df2=df_new[df_new.cluster==2]\n",
    "\n",
    "\n",
    "plt.scatter(df0.g_avg,df0.p_avg, color='g')\n",
    "plt.scatter(df1.g_avg,df1.p_avg, color='black')\n",
    "plt.scatter(df2.g_avg,df2.p_avg, color='blue')\n",
    "\n",
    "\n",
    "\n",
    "plt.xlabel('G')\n",
    "plt.ylabel('P')"
   ]
  }
 ],
 "metadata": {
  "kernelspec": {
   "display_name": "Python 3",
   "language": "python",
   "name": "python3"
  },
  "language_info": {
   "codemirror_mode": {
    "name": "ipython",
    "version": 3
   },
   "file_extension": ".py",
   "mimetype": "text/x-python",
   "name": "python",
   "nbconvert_exporter": "python",
   "pygments_lexer": "ipython3",
   "version": "3.7.4"
  }
 },
 "nbformat": 4,
 "nbformat_minor": 2
}
